{
  "cells": [
    {
      "cell_type": "code",
      "execution_count": 1,
      "metadata": {
        "id": "teHhsNNhL64p"
      },
      "outputs": [],
      "source": [
        "import numpy as np\n",
        "import pandas as pd\n",
        "import matplotlib.pyplot as plt\n",
        "import seaborn as sns"
      ]
    },
    {
      "cell_type": "code",
      "execution_count": 2,
      "metadata": {
        "id": "DG6nWkXgQDXb"
      },
      "outputs": [],
      "source": [
        "# зафиксируем сид для воспроизводимости результатов\n",
        "RANDOM_SEED = 42\n",
        "np.random.seed(42)"
      ]
    },
    {
      "cell_type": "code",
      "execution_count": 21,
      "metadata": {
        "colab": {
          "base_uri": "https://localhost:8080/",
          "height": 0
        },
        "id": "quSUuNFUMBEx",
        "outputId": "35e91c3d-d652-4b69-ed0a-a8ce7499c6dd"
      },
      "outputs": [
        {
          "data": {
            "text/plain": [
              "(120, 54676)"
            ]
          },
          "execution_count": 21,
          "metadata": {},
          "output_type": "execute_result"
        }
      ],
      "source": [
        "data = pd.read_csv(\"microarray_BRCA_public.csv\")\n",
        "data.shape"
      ]
    },
    {
      "cell_type": "code",
      "execution_count": 22,
      "metadata": {
        "id": "vvgrnb8JMVKT"
      },
      "outputs": [],
      "source": [
        "target = \"type\"\n",
        "features = data.columns[1:]"
      ]
    },
    {
      "cell_type": "code",
      "execution_count": 23,
      "metadata": {
        "colab": {
          "base_uri": "https://localhost:8080/",
          "height": 290
        },
        "id": "jeF0IW_FPgIm",
        "outputId": "6fcbd7e0-96a1-42fc-efca-684e533753ad"
      },
      "outputs": [
        {
          "data": {
            "text/html": [
              "\n",
              "  <div id=\"df-ad11f0ea-45d0-4746-a55b-1e6ec35c9123\" class=\"colab-df-container\">\n",
              "    <div>\n",
              "<style scoped>\n",
              "    .dataframe tbody tr th:only-of-type {\n",
              "        vertical-align: middle;\n",
              "    }\n",
              "\n",
              "    .dataframe tbody tr th {\n",
              "        vertical-align: top;\n",
              "    }\n",
              "\n",
              "    .dataframe thead th {\n",
              "        text-align: right;\n",
              "    }\n",
              "</style>\n",
              "<table border=\"1\" class=\"dataframe\">\n",
              "  <thead>\n",
              "    <tr style=\"text-align: right;\">\n",
              "      <th></th>\n",
              "      <th>type</th>\n",
              "      <th>1007_s_at</th>\n",
              "      <th>1053_at</th>\n",
              "      <th>117_at</th>\n",
              "      <th>121_at</th>\n",
              "      <th>1255_g_at</th>\n",
              "      <th>1294_at</th>\n",
              "      <th>1316_at</th>\n",
              "      <th>1320_at</th>\n",
              "      <th>1405_i_at</th>\n",
              "      <th>...</th>\n",
              "      <th>AFFX-r2-Ec-bioD-3_at</th>\n",
              "      <th>AFFX-r2-Ec-bioD-5_at</th>\n",
              "      <th>AFFX-r2-P1-cre-3_at</th>\n",
              "      <th>AFFX-r2-P1-cre-5_at</th>\n",
              "      <th>AFFX-ThrX-3_at</th>\n",
              "      <th>AFFX-ThrX-5_at</th>\n",
              "      <th>AFFX-ThrX-M_at</th>\n",
              "      <th>AFFX-TrpnX-3_at</th>\n",
              "      <th>AFFX-TrpnX-5_at</th>\n",
              "      <th>AFFX-TrpnX-M_at</th>\n",
              "    </tr>\n",
              "  </thead>\n",
              "  <tbody>\n",
              "    <tr>\n",
              "      <th>0</th>\n",
              "      <td>basal</td>\n",
              "      <td>10.653314</td>\n",
              "      <td>7.385997</td>\n",
              "      <td>6.276376</td>\n",
              "      <td>7.589337</td>\n",
              "      <td>3.264221</td>\n",
              "      <td>6.516051</td>\n",
              "      <td>5.421516</td>\n",
              "      <td>5.141215</td>\n",
              "      <td>9.339500</td>\n",
              "      <td>...</td>\n",
              "      <td>12.459835</td>\n",
              "      <td>11.880859</td>\n",
              "      <td>13.978481</td>\n",
              "      <td>13.625455</td>\n",
              "      <td>6.921081</td>\n",
              "      <td>5.126022</td>\n",
              "      <td>5.371172</td>\n",
              "      <td>2.887719</td>\n",
              "      <td>3.677862</td>\n",
              "      <td>3.039207</td>\n",
              "    </tr>\n",
              "    <tr>\n",
              "      <th>1</th>\n",
              "      <td>basal</td>\n",
              "      <td>9.562033</td>\n",
              "      <td>8.619604</td>\n",
              "      <td>6.403856</td>\n",
              "      <td>7.511549</td>\n",
              "      <td>3.116106</td>\n",
              "      <td>6.755821</td>\n",
              "      <td>5.140356</td>\n",
              "      <td>4.454047</td>\n",
              "      <td>7.912255</td>\n",
              "      <td>...</td>\n",
              "      <td>11.875932</td>\n",
              "      <td>11.318290</td>\n",
              "      <td>13.592611</td>\n",
              "      <td>13.317422</td>\n",
              "      <td>7.223960</td>\n",
              "      <td>6.150911</td>\n",
              "      <td>6.227012</td>\n",
              "      <td>2.922538</td>\n",
              "      <td>3.429966</td>\n",
              "      <td>3.126399</td>\n",
              "    </tr>\n",
              "    <tr>\n",
              "      <th>2</th>\n",
              "      <td>basal</td>\n",
              "      <td>10.793782</td>\n",
              "      <td>8.432082</td>\n",
              "      <td>5.414666</td>\n",
              "      <td>7.643413</td>\n",
              "      <td>3.397578</td>\n",
              "      <td>6.308265</td>\n",
              "      <td>5.310103</td>\n",
              "      <td>5.076884</td>\n",
              "      <td>5.375713</td>\n",
              "      <td>...</td>\n",
              "      <td>12.473305</td>\n",
              "      <td>11.830756</td>\n",
              "      <td>13.896080</td>\n",
              "      <td>13.577114</td>\n",
              "      <td>6.968871</td>\n",
              "      <td>4.549014</td>\n",
              "      <td>5.021270</td>\n",
              "      <td>2.952320</td>\n",
              "      <td>3.731357</td>\n",
              "      <td>3.103301</td>\n",
              "    </tr>\n",
              "    <tr>\n",
              "      <th>3</th>\n",
              "      <td>luminal_A</td>\n",
              "      <td>10.465236</td>\n",
              "      <td>7.227769</td>\n",
              "      <td>5.872487</td>\n",
              "      <td>7.817099</td>\n",
              "      <td>3.261850</td>\n",
              "      <td>7.679108</td>\n",
              "      <td>5.484061</td>\n",
              "      <td>4.765862</td>\n",
              "      <td>6.815736</td>\n",
              "      <td>...</td>\n",
              "      <td>12.627267</td>\n",
              "      <td>12.020696</td>\n",
              "      <td>14.261603</td>\n",
              "      <td>14.065850</td>\n",
              "      <td>8.318827</td>\n",
              "      <td>6.978756</td>\n",
              "      <td>7.403238</td>\n",
              "      <td>2.890106</td>\n",
              "      <td>3.486187</td>\n",
              "      <td>3.149925</td>\n",
              "    </tr>\n",
              "    <tr>\n",
              "      <th>4</th>\n",
              "      <td>basal</td>\n",
              "      <td>10.025334</td>\n",
              "      <td>8.194565</td>\n",
              "      <td>6.677015</td>\n",
              "      <td>6.968076</td>\n",
              "      <td>3.249106</td>\n",
              "      <td>7.364889</td>\n",
              "      <td>5.004044</td>\n",
              "      <td>4.800022</td>\n",
              "      <td>7.669665</td>\n",
              "      <td>...</td>\n",
              "      <td>12.228213</td>\n",
              "      <td>11.747489</td>\n",
              "      <td>13.911897</td>\n",
              "      <td>13.600270</td>\n",
              "      <td>7.035046</td>\n",
              "      <td>4.406658</td>\n",
              "      <td>4.828943</td>\n",
              "      <td>3.040227</td>\n",
              "      <td>3.723065</td>\n",
              "      <td>3.189902</td>\n",
              "    </tr>\n",
              "  </tbody>\n",
              "</table>\n",
              "<p>5 rows × 54676 columns</p>\n",
              "</div>\n",
              "    <div class=\"colab-df-buttons\">\n",
              "\n",
              "  <div class=\"colab-df-container\">\n",
              "    <button class=\"colab-df-convert\" onclick=\"convertToInteractive('df-ad11f0ea-45d0-4746-a55b-1e6ec35c9123')\"\n",
              "            title=\"Convert this dataframe to an interactive table.\"\n",
              "            style=\"display:none;\">\n",
              "\n",
              "  <svg xmlns=\"http://www.w3.org/2000/svg\" height=\"24px\" viewBox=\"0 -960 960 960\">\n",
              "    <path d=\"M120-120v-720h720v720H120Zm60-500h600v-160H180v160Zm220 220h160v-160H400v160Zm0 220h160v-160H400v160ZM180-400h160v-160H180v160Zm440 0h160v-160H620v160ZM180-180h160v-160H180v160Zm440 0h160v-160H620v160Z\"/>\n",
              "  </svg>\n",
              "    </button>\n",
              "\n",
              "  <style>\n",
              "    .colab-df-container {\n",
              "      display:flex;\n",
              "      gap: 12px;\n",
              "    }\n",
              "\n",
              "    .colab-df-convert {\n",
              "      background-color: #E8F0FE;\n",
              "      border: none;\n",
              "      border-radius: 50%;\n",
              "      cursor: pointer;\n",
              "      display: none;\n",
              "      fill: #1967D2;\n",
              "      height: 32px;\n",
              "      padding: 0 0 0 0;\n",
              "      width: 32px;\n",
              "    }\n",
              "\n",
              "    .colab-df-convert:hover {\n",
              "      background-color: #E2EBFA;\n",
              "      box-shadow: 0px 1px 2px rgba(60, 64, 67, 0.3), 0px 1px 3px 1px rgba(60, 64, 67, 0.15);\n",
              "      fill: #174EA6;\n",
              "    }\n",
              "\n",
              "    .colab-df-buttons div {\n",
              "      margin-bottom: 4px;\n",
              "    }\n",
              "\n",
              "    [theme=dark] .colab-df-convert {\n",
              "      background-color: #3B4455;\n",
              "      fill: #D2E3FC;\n",
              "    }\n",
              "\n",
              "    [theme=dark] .colab-df-convert:hover {\n",
              "      background-color: #434B5C;\n",
              "      box-shadow: 0px 1px 3px 1px rgba(0, 0, 0, 0.15);\n",
              "      filter: drop-shadow(0px 1px 2px rgba(0, 0, 0, 0.3));\n",
              "      fill: #FFFFFF;\n",
              "    }\n",
              "  </style>\n",
              "\n",
              "    <script>\n",
              "      const buttonEl =\n",
              "        document.querySelector('#df-ad11f0ea-45d0-4746-a55b-1e6ec35c9123 button.colab-df-convert');\n",
              "      buttonEl.style.display =\n",
              "        google.colab.kernel.accessAllowed ? 'block' : 'none';\n",
              "\n",
              "      async function convertToInteractive(key) {\n",
              "        const element = document.querySelector('#df-ad11f0ea-45d0-4746-a55b-1e6ec35c9123');\n",
              "        const dataTable =\n",
              "          await google.colab.kernel.invokeFunction('convertToInteractive',\n",
              "                                                    [key], {});\n",
              "        if (!dataTable) return;\n",
              "\n",
              "        const docLinkHtml = 'Like what you see? Visit the ' +\n",
              "          '<a target=\"_blank\" href=https://colab.research.google.com/notebooks/data_table.ipynb>data table notebook</a>'\n",
              "          + ' to learn more about interactive tables.';\n",
              "        element.innerHTML = '';\n",
              "        dataTable['output_type'] = 'display_data';\n",
              "        await google.colab.output.renderOutput(dataTable, element);\n",
              "        const docLink = document.createElement('div');\n",
              "        docLink.innerHTML = docLinkHtml;\n",
              "        element.appendChild(docLink);\n",
              "      }\n",
              "    </script>\n",
              "  </div>\n",
              "\n",
              "\n",
              "<div id=\"df-45b163ed-f795-4be3-8701-ecd79780a2bc\">\n",
              "  <button class=\"colab-df-quickchart\" onclick=\"quickchart('df-45b163ed-f795-4be3-8701-ecd79780a2bc')\"\n",
              "            title=\"Suggest charts.\"\n",
              "            style=\"display:none;\">\n",
              "\n",
              "<svg xmlns=\"http://www.w3.org/2000/svg\" height=\"24px\"viewBox=\"0 0 24 24\"\n",
              "     width=\"24px\">\n",
              "    <g>\n",
              "        <path d=\"M19 3H5c-1.1 0-2 .9-2 2v14c0 1.1.9 2 2 2h14c1.1 0 2-.9 2-2V5c0-1.1-.9-2-2-2zM9 17H7v-7h2v7zm4 0h-2V7h2v10zm4 0h-2v-4h2v4z\"/>\n",
              "    </g>\n",
              "</svg>\n",
              "  </button>\n",
              "\n",
              "<style>\n",
              "  .colab-df-quickchart {\n",
              "      --bg-color: #E8F0FE;\n",
              "      --fill-color: #1967D2;\n",
              "      --hover-bg-color: #E2EBFA;\n",
              "      --hover-fill-color: #174EA6;\n",
              "      --disabled-fill-color: #AAA;\n",
              "      --disabled-bg-color: #DDD;\n",
              "  }\n",
              "\n",
              "  [theme=dark] .colab-df-quickchart {\n",
              "      --bg-color: #3B4455;\n",
              "      --fill-color: #D2E3FC;\n",
              "      --hover-bg-color: #434B5C;\n",
              "      --hover-fill-color: #FFFFFF;\n",
              "      --disabled-bg-color: #3B4455;\n",
              "      --disabled-fill-color: #666;\n",
              "  }\n",
              "\n",
              "  .colab-df-quickchart {\n",
              "    background-color: var(--bg-color);\n",
              "    border: none;\n",
              "    border-radius: 50%;\n",
              "    cursor: pointer;\n",
              "    display: none;\n",
              "    fill: var(--fill-color);\n",
              "    height: 32px;\n",
              "    padding: 0;\n",
              "    width: 32px;\n",
              "  }\n",
              "\n",
              "  .colab-df-quickchart:hover {\n",
              "    background-color: var(--hover-bg-color);\n",
              "    box-shadow: 0 1px 2px rgba(60, 64, 67, 0.3), 0 1px 3px 1px rgba(60, 64, 67, 0.15);\n",
              "    fill: var(--button-hover-fill-color);\n",
              "  }\n",
              "\n",
              "  .colab-df-quickchart-complete:disabled,\n",
              "  .colab-df-quickchart-complete:disabled:hover {\n",
              "    background-color: var(--disabled-bg-color);\n",
              "    fill: var(--disabled-fill-color);\n",
              "    box-shadow: none;\n",
              "  }\n",
              "\n",
              "  .colab-df-spinner {\n",
              "    border: 2px solid var(--fill-color);\n",
              "    border-color: transparent;\n",
              "    border-bottom-color: var(--fill-color);\n",
              "    animation:\n",
              "      spin 1s steps(1) infinite;\n",
              "  }\n",
              "\n",
              "  @keyframes spin {\n",
              "    0% {\n",
              "      border-color: transparent;\n",
              "      border-bottom-color: var(--fill-color);\n",
              "      border-left-color: var(--fill-color);\n",
              "    }\n",
              "    20% {\n",
              "      border-color: transparent;\n",
              "      border-left-color: var(--fill-color);\n",
              "      border-top-color: var(--fill-color);\n",
              "    }\n",
              "    30% {\n",
              "      border-color: transparent;\n",
              "      border-left-color: var(--fill-color);\n",
              "      border-top-color: var(--fill-color);\n",
              "      border-right-color: var(--fill-color);\n",
              "    }\n",
              "    40% {\n",
              "      border-color: transparent;\n",
              "      border-right-color: var(--fill-color);\n",
              "      border-top-color: var(--fill-color);\n",
              "    }\n",
              "    60% {\n",
              "      border-color: transparent;\n",
              "      border-right-color: var(--fill-color);\n",
              "    }\n",
              "    80% {\n",
              "      border-color: transparent;\n",
              "      border-right-color: var(--fill-color);\n",
              "      border-bottom-color: var(--fill-color);\n",
              "    }\n",
              "    90% {\n",
              "      border-color: transparent;\n",
              "      border-bottom-color: var(--fill-color);\n",
              "    }\n",
              "  }\n",
              "</style>\n",
              "\n",
              "  <script>\n",
              "    async function quickchart(key) {\n",
              "      const quickchartButtonEl =\n",
              "        document.querySelector('#' + key + ' button');\n",
              "      quickchartButtonEl.disabled = true;  // To prevent multiple clicks.\n",
              "      quickchartButtonEl.classList.add('colab-df-spinner');\n",
              "      try {\n",
              "        const charts = await google.colab.kernel.invokeFunction(\n",
              "            'suggestCharts', [key], {});\n",
              "      } catch (error) {\n",
              "        console.error('Error during call to suggestCharts:', error);\n",
              "      }\n",
              "      quickchartButtonEl.classList.remove('colab-df-spinner');\n",
              "      quickchartButtonEl.classList.add('colab-df-quickchart-complete');\n",
              "    }\n",
              "    (() => {\n",
              "      let quickchartButtonEl =\n",
              "        document.querySelector('#df-45b163ed-f795-4be3-8701-ecd79780a2bc button');\n",
              "      quickchartButtonEl.style.display =\n",
              "        google.colab.kernel.accessAllowed ? 'block' : 'none';\n",
              "    })();\n",
              "  </script>\n",
              "</div>\n",
              "    </div>\n",
              "  </div>\n"
            ],
            "text/plain": [
              "        type  1007_s_at   1053_at    117_at    121_at  1255_g_at   1294_at  \\\n",
              "0      basal  10.653314  7.385997  6.276376  7.589337   3.264221  6.516051   \n",
              "1      basal   9.562033  8.619604  6.403856  7.511549   3.116106  6.755821   \n",
              "2      basal  10.793782  8.432082  5.414666  7.643413   3.397578  6.308265   \n",
              "3  luminal_A  10.465236  7.227769  5.872487  7.817099   3.261850  7.679108   \n",
              "4      basal  10.025334  8.194565  6.677015  6.968076   3.249106  7.364889   \n",
              "\n",
              "    1316_at   1320_at  1405_i_at  ...  AFFX-r2-Ec-bioD-3_at  \\\n",
              "0  5.421516  5.141215   9.339500  ...             12.459835   \n",
              "1  5.140356  4.454047   7.912255  ...             11.875932   \n",
              "2  5.310103  5.076884   5.375713  ...             12.473305   \n",
              "3  5.484061  4.765862   6.815736  ...             12.627267   \n",
              "4  5.004044  4.800022   7.669665  ...             12.228213   \n",
              "\n",
              "   AFFX-r2-Ec-bioD-5_at  AFFX-r2-P1-cre-3_at  AFFX-r2-P1-cre-5_at  \\\n",
              "0             11.880859            13.978481            13.625455   \n",
              "1             11.318290            13.592611            13.317422   \n",
              "2             11.830756            13.896080            13.577114   \n",
              "3             12.020696            14.261603            14.065850   \n",
              "4             11.747489            13.911897            13.600270   \n",
              "\n",
              "   AFFX-ThrX-3_at  AFFX-ThrX-5_at  AFFX-ThrX-M_at  AFFX-TrpnX-3_at  \\\n",
              "0        6.921081        5.126022        5.371172         2.887719   \n",
              "1        7.223960        6.150911        6.227012         2.922538   \n",
              "2        6.968871        4.549014        5.021270         2.952320   \n",
              "3        8.318827        6.978756        7.403238         2.890106   \n",
              "4        7.035046        4.406658        4.828943         3.040227   \n",
              "\n",
              "   AFFX-TrpnX-5_at  AFFX-TrpnX-M_at  \n",
              "0         3.677862         3.039207  \n",
              "1         3.429966         3.126399  \n",
              "2         3.731357         3.103301  \n",
              "3         3.486187         3.149925  \n",
              "4         3.723065         3.189902  \n",
              "\n",
              "[5 rows x 54676 columns]"
            ]
          },
          "execution_count": 23,
          "metadata": {},
          "output_type": "execute_result"
        }
      ],
      "source": [
        "data.head()"
      ]
    },
    {
      "cell_type": "code",
      "execution_count": 24,
      "metadata": {
        "colab": {
          "base_uri": "https://localhost:8080/",
          "height": 0
        },
        "id": "U6hJTBRRPjqc",
        "outputId": "a3edff89-fb5f-4314-84f8-271884a848a2"
      },
      "outputs": [
        {
          "data": {
            "text/plain": [
              "0"
            ]
          },
          "execution_count": 24,
          "metadata": {},
          "output_type": "execute_result"
        }
      ],
      "source": [
        "# проверим наличие нанов в данных\n",
        "data.isna().sum().sum()"
      ]
    },
    {
      "cell_type": "code",
      "execution_count": 25,
      "metadata": {
        "id": "vqetMELeQBuN"
      },
      "outputs": [],
      "source": [
        "from sklearn.model_selection import train_test_split"
      ]
    },
    {
      "cell_type": "code",
      "execution_count": 26,
      "metadata": {
        "colab": {
          "base_uri": "https://localhost:8080/",
          "height": 0
        },
        "id": "SoQgBXSkRJ8k",
        "outputId": "1294d1bb-8075-4bff-f2ba-14fb9c95624e"
      },
      "outputs": [
        {
          "data": {
            "text/plain": [
              "basal        34\n",
              "luminal_B    24\n",
              "luminal_A    23\n",
              "HER          21\n",
              "cell_line    11\n",
              "normal        7\n",
              "Name: type, dtype: int64"
            ]
          },
          "execution_count": 26,
          "metadata": {},
          "output_type": "execute_result"
        }
      ],
      "source": [
        "data[target].value_counts()"
      ]
    },
    {
      "cell_type": "markdown",
      "metadata": {
        "id": "TuC-gEFycIZH"
      },
      "source": [
        "Закодируем классы цифрами, чтобы в будущем с ними было проще работать в будущем."
      ]
    },
    {
      "cell_type": "code",
      "execution_count": 27,
      "metadata": {
        "id": "6jIBZMxmYA3x"
      },
      "outputs": [],
      "source": [
        "from sklearn.preprocessing import LabelEncoder"
      ]
    },
    {
      "cell_type": "code",
      "execution_count": 28,
      "metadata": {
        "id": "42aBuxvVYGcg"
      },
      "outputs": [],
      "source": [
        "le = LabelEncoder()\n",
        "data[target] = le.fit_transform(data[target])"
      ]
    },
    {
      "cell_type": "code",
      "execution_count": 29,
      "metadata": {
        "colab": {
          "base_uri": "https://localhost:8080/",
          "height": 0
        },
        "id": "5XMBpogX2jU2",
        "outputId": "49ae9f0e-acd6-4234-cc54-9b10c0f04344"
      },
      "outputs": [
        {
          "data": {
            "text/plain": [
              "{'HER': 0,\n",
              " 'basal': 1,\n",
              " 'cell_line': 2,\n",
              " 'luminal_A': 3,\n",
              " 'luminal_B': 4,\n",
              " 'normal': 5}"
            ]
          },
          "execution_count": 29,
          "metadata": {},
          "output_type": "execute_result"
        }
      ],
      "source": [
        "classes = dict()\n",
        "for i, class_name in enumerate(le.classes_):\n",
        "  classes[class_name] = i\n",
        "classes"
      ]
    },
    {
      "cell_type": "markdown",
      "metadata": {
        "id": "IF-HgtwWcSDc"
      },
      "source": [
        "Разобьем данные на тренировочную и валидационную выборки, сохраняя пропорции классов в них."
      ]
    },
    {
      "cell_type": "code",
      "execution_count": 30,
      "metadata": {
        "id": "6xJ11bnHMnW-"
      },
      "outputs": [],
      "source": [
        "data_train, data_test = train_test_split(data, test_size=0.2, random_state=RANDOM_SEED, stratify=data[target])"
      ]
    },
    {
      "cell_type": "markdown",
      "metadata": {
        "id": "0to3ffjgPuus"
      },
      "source": [
        "В качестве бейзлайна используем лог. регрессию."
      ]
    },
    {
      "cell_type": "code",
      "execution_count": 31,
      "metadata": {
        "id": "BF5ac7NRRcrO"
      },
      "outputs": [],
      "source": [
        "from sklearn.linear_model import LogisticRegression"
      ]
    },
    {
      "cell_type": "code",
      "execution_count": 158,
      "metadata": {
        "id": "_F1G3tnq27rN"
      },
      "outputs": [],
      "source": [
        "def fit_predict_logreg(X_train, y_train, X_test, max_iter):\n",
        "  log_reg = LogisticRegression(max_iter=max_iter)\n",
        "  log_reg.fit(X_train, y_train)\n",
        "  pred = log_reg.predict(X_test)\n",
        "\n",
        "  return log_reg, pred"
      ]
    },
    {
      "cell_type": "code",
      "execution_count": 34,
      "metadata": {
        "id": "kspx0DM73U8J"
      },
      "outputs": [],
      "source": [
        "baseline, base_pred = fit_predict_logreg(data_train[features], data_train[target], data_test[features], max_iter=1000)"
      ]
    },
    {
      "cell_type": "code",
      "execution_count": 37,
      "metadata": {
        "id": "1a6JYY65RyNy"
      },
      "outputs": [],
      "source": [
        "from sklearn.metrics import f1_score"
      ]
    },
    {
      "cell_type": "code",
      "execution_count": 38,
      "metadata": {
        "colab": {
          "base_uri": "https://localhost:8080/",
          "height": 0
        },
        "id": "ZX-sV-pkSpgX",
        "outputId": "b151cab2-c69f-4867-bb12-1186eb55c109"
      },
      "outputs": [
        {
          "data": {
            "text/plain": [
              "0.9305555555555555"
            ]
          },
          "execution_count": 38,
          "metadata": {},
          "output_type": "execute_result"
        }
      ],
      "source": [
        "f1_score(data_test[target], base_pred, average='macro')"
      ]
    },
    {
      "cell_type": "markdown",
      "metadata": {
        "id": "58bNlpOYWgc0"
      },
      "source": [
        "Теперь нашей целью будет побить этот результат бейзлайна.\n",
        "В качестве метрики использовали macro f1 score, т к это целевая метрика в этой домашке.\n"
      ]
    },
    {
      "cell_type": "code",
      "execution_count": 6,
      "metadata": {
        "id": "bhjqyAgg1CHV"
      },
      "outputs": [],
      "source": [
        "def calculate_mistakes(pred, gt):\n",
        "  mask = (pred != gt)\n",
        "  mistakes = gt[mask]\n",
        "  labels, counts = np.unique(mistakes, return_counts=True)\n",
        "\n",
        "  return dict(zip(labels, counts))"
      ]
    },
    {
      "cell_type": "code",
      "execution_count": 40,
      "metadata": {
        "colab": {
          "base_uri": "https://localhost:8080/",
          "height": 0
        },
        "id": "8ZmfIFzqW14s",
        "outputId": "61b755d6-fd16-47f3-bd96-1a76a9322994"
      },
      "outputs": [
        {
          "name": "stdout",
          "output_type": "stream",
          "text": [
            "Collecting umap-learn\n",
            "  Downloading umap-learn-0.5.4.tar.gz (90 kB)\n",
            "\u001b[2K     \u001b[90m━━━━━━━━━━━━━━━━━━━━━━━━━━━━━━━━━━━━━━━━\u001b[0m \u001b[32m90.8/90.8 kB\u001b[0m \u001b[31m2.8 MB/s\u001b[0m eta \u001b[36m0:00:00\u001b[0m\n",
            "\u001b[?25h  Preparing metadata (setup.py) ... \u001b[?25l\u001b[?25hdone\n",
            "Requirement already satisfied: numpy>=1.17 in /usr/local/lib/python3.10/dist-packages (from umap-learn) (1.23.5)\n",
            "Requirement already satisfied: scipy>=1.3.1 in /usr/local/lib/python3.10/dist-packages (from umap-learn) (1.11.3)\n",
            "Requirement already satisfied: scikit-learn>=0.22 in /usr/local/lib/python3.10/dist-packages (from umap-learn) (1.2.2)\n",
            "Requirement already satisfied: numba>=0.51.2 in /usr/local/lib/python3.10/dist-packages (from umap-learn) (0.56.4)\n",
            "Collecting pynndescent>=0.5 (from umap-learn)\n",
            "  Downloading pynndescent-0.5.10.tar.gz (1.1 MB)\n",
            "\u001b[2K     \u001b[90m━━━━━━━━━━━━━━━━━━━━━━━━━━━━━━━━━━━━━━━━\u001b[0m \u001b[32m1.1/1.1 MB\u001b[0m \u001b[31m35.0 MB/s\u001b[0m eta \u001b[36m0:00:00\u001b[0m\n",
            "\u001b[?25h  Preparing metadata (setup.py) ... \u001b[?25l\u001b[?25hdone\n",
            "Requirement already satisfied: tqdm in /usr/local/lib/python3.10/dist-packages (from umap-learn) (4.66.1)\n",
            "Requirement already satisfied: tbb>=2019.0 in /usr/local/lib/python3.10/dist-packages (from umap-learn) (2021.10.0)\n",
            "Requirement already satisfied: llvmlite<0.40,>=0.39.0dev0 in /usr/local/lib/python3.10/dist-packages (from numba>=0.51.2->umap-learn) (0.39.1)\n",
            "Requirement already satisfied: setuptools in /usr/local/lib/python3.10/dist-packages (from numba>=0.51.2->umap-learn) (67.7.2)\n",
            "Requirement already satisfied: joblib>=0.11 in /usr/local/lib/python3.10/dist-packages (from pynndescent>=0.5->umap-learn) (1.3.2)\n",
            "Requirement already satisfied: threadpoolctl>=2.0.0 in /usr/local/lib/python3.10/dist-packages (from scikit-learn>=0.22->umap-learn) (3.2.0)\n",
            "Building wheels for collected packages: umap-learn, pynndescent\n",
            "  Building wheel for umap-learn (setup.py) ... \u001b[?25l\u001b[?25hdone\n",
            "  Created wheel for umap-learn: filename=umap_learn-0.5.4-py3-none-any.whl size=86770 sha256=094bf9d975f2db3f6108a18c7e00c9b84ce48800bb10c1c3a6a9f21c2d61ca70\n",
            "  Stored in directory: /root/.cache/pip/wheels/fb/66/29/199acf5784d0f7b8add6d466175ab45506c96e386ed5dd0633\n",
            "  Building wheel for pynndescent (setup.py) ... \u001b[?25l\u001b[?25hdone\n",
            "  Created wheel for pynndescent: filename=pynndescent-0.5.10-py3-none-any.whl size=55615 sha256=e9db9b9e1b90ed11ff125fd0fc0783ca44d54725c70bcd3f3fa1828a2b4ee880\n",
            "  Stored in directory: /root/.cache/pip/wheels/4a/38/5d/f60a40a66a9512b7e5e83517ebc2d1b42d857be97d135f1096\n",
            "Successfully built umap-learn pynndescent\n",
            "Installing collected packages: pynndescent, umap-learn\n",
            "Successfully installed pynndescent-0.5.10 umap-learn-0.5.4\n"
          ]
        }
      ],
      "source": [
        "! pip install umap-learn"
      ]
    },
    {
      "cell_type": "markdown",
      "metadata": {
        "id": "-NXQzgsmcmyd"
      },
      "source": [
        "Поизучаем маломерные представления нашей тернировочной выборки. Для этого используем UMAP."
      ]
    },
    {
      "cell_type": "code",
      "execution_count": 43,
      "metadata": {
        "id": "cpLhGjCtXCGD"
      },
      "outputs": [],
      "source": [
        "import umap"
      ]
    },
    {
      "cell_type": "code",
      "execution_count": 44,
      "metadata": {
        "id": "V6vt-K2ewWEV"
      },
      "outputs": [],
      "source": [
        "def train_and_plot_umap(dataset, features):\n",
        "  umaper = umap.UMAP(random_state=RANDOM_SEED)\n",
        "  umaped_data = umaper.fit_transform(dataset[features])\n",
        "\n",
        "  fig, ax = plt.subplots()\n",
        "  scatter = ax.scatter(umaped_data.T[0], umaped_data.T[1], c=dataset[target])\n",
        "  legend = ax.legend(*scatter.legend_elements())\n",
        "  ax.add_artist(legend)\n",
        "  plt.show()"
      ]
    },
    {
      "cell_type": "code",
      "execution_count": 45,
      "metadata": {
        "colab": {
          "base_uri": "https://localhost:8080/",
          "height": 467
        },
        "id": "UKurvX5LxLWY",
        "outputId": "e98457e2-62a6-4b60-8ee3-b5e5d3ea06e7"
      },
      "outputs": [
        {
          "name": "stderr",
          "output_type": "stream",
          "text": [
            "/usr/local/lib/python3.10/dist-packages/umap/umap_.py:1943: UserWarning: n_jobs value -1 overridden to 1 by setting random_state. Use no seed for parallelism.\n",
            "  warn(f\"n_jobs value {self.n_jobs} overridden to 1 by setting random_state. Use no seed for parallelism.\")\n"
          ]
        },
        {
          "data": {
            "image/png": "[encoded data removed]",
            "text/plain": [
              "<Figure size 640x480 with 1 Axes>"
            ]
          },
          "metadata": {},
          "output_type": "display_data"
        }
      ],
      "source": [
        "train_and_plot_umap(data_train, features)"
      ]
    },
    {
      "cell_type": "markdown",
      "metadata": {
        "id": "VI9qZTvgc5db"
      },
      "source": [
        "В маломерном представлении два класса линейно отделимы от остальных, скорее всего, проблемы будут с перемешанными классами.  \n",
        "Посмотрим на распределения признаков для различных экземпляров."
      ]
    },
    {
      "cell_type": "code",
      "execution_count": 62,
      "metadata": {
        "colab": {
          "base_uri": "https://localhost:8080/",
          "height": 889
        },
        "id": "w6KZqQaNW6fw",
        "outputId": "f331d415-c183-478b-af7d-f8e21cd104a4"
      },
      "outputs": [
        {
          "data": {
            "image/png": "[encoded data removed]",
            "text/plain": [
              "<Figure size 3000x2000 with 6 Axes>"
            ]
          },
          "metadata": {},
          "output_type": "display_data"
        }
      ],
      "source": [
        "n_samples = 6\n",
        "ids = np.random.choice(data_train.index, size=n_samples)\n",
        "plt.figure(figsize=(30, 20))\n",
        "for i, id in enumerate(ids):\n",
        "  plt.subplot(2, 3, i + 1)\n",
        "  plt.hist(data_train.loc[id][1:])"
      ]
    },
    {
      "cell_type": "markdown",
      "metadata": {
        "id": "AnfeCH8Cdbj5"
      },
      "source": [
        "При использовании линейный моделей, такие распределения лучшелог-нормировать."
      ]
    },
    {
      "cell_type": "code",
      "execution_count": 63,
      "metadata": {
        "id": "hYNN1Z_pY7jU"
      },
      "outputs": [],
      "source": [
        "log_data = np.log(data_train[features])"
      ]
    },
    {
      "cell_type": "code",
      "execution_count": 64,
      "metadata": {
        "colab": {
          "base_uri": "https://localhost:8080/",
          "height": 1000
        },
        "id": "SSgEFkpIZJZw",
        "outputId": "ed8fadd8-8462-4d29-dc31-7fc92b49c1d2"
      },
      "outputs": [
        {
          "data": {
            "image/png": "[encoded data removed]",
            "text/plain": [
              "<Figure size 3000x2000 with 6 Axes>"
            ]
          },
          "metadata": {},
          "output_type": "display_data"
        }
      ],
      "source": [
        "plt.figure(figsize=(30, 20))\n",
        "for i, id in enumerate(ids):\n",
        "  plt.subplot(2, 3, i + 1)\n",
        "  plt.hist(log_data.loc[id][1:])"
      ]
    },
    {
      "cell_type": "markdown",
      "metadata": {
        "id": "n6ds32QZdpwU"
      },
      "source": [
        "После лог-нормализации распределения выглядят более централизованными, что будет безусловным плюсом при использовании линейных моделей.\n",
        "(в аргумент логарифма не поставили +1, потому что значения признзнаков больше единицы)."
      ]
    },
    {
      "cell_type": "code",
      "execution_count": 70,
      "metadata": {
        "colab": {
          "base_uri": "https://localhost:8080/",
          "height": 467
        },
        "id": "VJOG1sQ76lLv",
        "outputId": "0010c7e5-174d-4bd6-afdd-c5bfea33b923"
      },
      "outputs": [
        {
          "name": "stderr",
          "output_type": "stream",
          "text": [
            "/usr/local/lib/python3.10/dist-packages/umap/umap_.py:1943: UserWarning: n_jobs value -1 overridden to 1 by setting random_state. Use no seed for parallelism.\n",
            "  warn(f\"n_jobs value {self.n_jobs} overridden to 1 by setting random_state. Use no seed for parallelism.\")\n"
          ]
        },
        {
          "data": {
            "image/png": "[encoded data removed]",
            "text/plain": [
              "<Figure size 640x480 with 1 Axes>"
            ]
          },
          "metadata": {},
          "output_type": "display_data"
        }
      ],
      "source": [
        "train_and_plot_umap(pd.concat([log_data, data_train[target]], axis=1), features)"
      ]
    },
    {
      "cell_type": "markdown",
      "metadata": {
        "id": "6TScx9OVeaSX"
      },
      "source": [
        "После лог нормализации классы чуть перемешались.  \n",
        "Посомтрим, как это повлияет на предсказание лог регрессии."
      ]
    },
    {
      "cell_type": "code",
      "execution_count": 179,
      "metadata": {
        "id": "8qV2pEDMA-aY"
      },
      "outputs": [],
      "source": [
        "_, pred_log = fit_predict_logreg(log_data, data_train[target], np.log(data_test[features]), max_iter=1000)"
      ]
    },
    {
      "cell_type": "code",
      "execution_count": 181,
      "metadata": {
        "colab": {
          "base_uri": "https://localhost:8080/",
          "height": 0
        },
        "id": "fWqZEUQ5BMNv",
        "outputId": "a3bf4cc9-73d8-4fb5-86db-8cedc58420b8"
      },
      "outputs": [
        {
          "data": {
            "text/plain": [
              "({3: 2}, 0.9305555555555555)"
            ]
          },
          "execution_count": 181,
          "metadata": {},
          "output_type": "execute_result"
        }
      ],
      "source": [
        "calculate_mistakes(pred_log, data_test[target]), f1_score(data_test[target], pred_log, average=\"macro\")"
      ]
    },
    {
      "cell_type": "markdown",
      "metadata": {
        "id": "pEWsRXWqeuBq"
      },
      "source": [
        "Модель пока ошибается только на одном классе, попробуем поработать с данными, чтобы это исправить.  \n",
        "Попробуем отнормировать наши признаки."
      ]
    },
    {
      "cell_type": "code",
      "execution_count": 71,
      "metadata": {
        "id": "Unca3XA5iRlU"
      },
      "outputs": [],
      "source": [
        "from sklearn.decomposition import PCA\n",
        "from sklearn.preprocessing import StandardScaler"
      ]
    },
    {
      "cell_type": "code",
      "execution_count": 72,
      "metadata": {
        "id": "4fSz_YZ1jgoa"
      },
      "outputs": [],
      "source": [
        "scaler = StandardScaler()"
      ]
    },
    {
      "cell_type": "code",
      "execution_count": 116,
      "metadata": {
        "id": "dJ4W9ik0jkr_"
      },
      "outputs": [],
      "source": [
        "scaled_log_data = scaler.fit_transform(log_data)"
      ]
    },
    {
      "cell_type": "code",
      "execution_count": 125,
      "metadata": {
        "id": "qlP7GJa27LUd"
      },
      "outputs": [],
      "source": [
        "scaled_log_data = pd.DataFrame(data=scaled_log_data, columns=features, index=data_train.index)"
      ]
    },
    {
      "cell_type": "code",
      "execution_count": 127,
      "metadata": {
        "colab": {
          "base_uri": "https://localhost:8080/",
          "height": 467
        },
        "id": "riNo_x7D7wA3",
        "outputId": "93a96327-519e-469a-a106-1417fbea40ec"
      },
      "outputs": [
        {
          "name": "stderr",
          "output_type": "stream",
          "text": [
            "/usr/local/lib/python3.10/dist-packages/umap/umap_.py:1943: UserWarning: n_jobs value -1 overridden to 1 by setting random_state. Use no seed for parallelism.\n",
            "  warn(f\"n_jobs value {self.n_jobs} overridden to 1 by setting random_state. Use no seed for parallelism.\")\n"
          ]
        },
        {
          "data": {
            "image/png": "[encoded data removed]",
            "text/plain": [
              "<Figure size 640x480 with 1 Axes>"
            ]
          },
          "metadata": {},
          "output_type": "display_data"
        }
      ],
      "source": [
        "train_and_plot_umap(pd.concat([scaled_log_data, data_train[target]], axis=1), features)"
      ]
    },
    {
      "cell_type": "code",
      "execution_count": 182,
      "metadata": {
        "id": "UHiAFy9aBqm9"
      },
      "outputs": [],
      "source": [
        "_, pred_log_scale = fit_predict_logreg(log_data, data_train[target], np.log(data_test[features]), max_iter=1000)"
      ]
    },
    {
      "cell_type": "code",
      "execution_count": 183,
      "metadata": {
        "colab": {
          "base_uri": "https://localhost:8080/",
          "height": 0
        },
        "id": "WglwI6glBuoS",
        "outputId": "77c9796e-b2c4-4a65-cf62-e11935dc0fc5"
      },
      "outputs": [
        {
          "data": {
            "text/plain": [
              "({3: 2}, 0.9305555555555555)"
            ]
          },
          "execution_count": 183,
          "metadata": {},
          "output_type": "execute_result"
        }
      ],
      "source": [
        "calculate_mistakes(pred_log_scale, data_test[target]), f1_score(data_test[target], pred_log_scale, average=\"macro\")"
      ]
    },
    {
      "cell_type": "markdown",
      "metadata": {
        "id": "1xtjyGdTfWZQ"
      },
      "source": [
        "После номрализации классы перемешались еще сильнее в маломерной проекции, однако, это не повлияло на работу модели."
      ]
    },
    {
      "cell_type": "markdown",
      "metadata": {
        "id": "AAwtusJ3fl_O"
      },
      "source": [
        "Теперь попробуем понизить размерность данных, чтобы избавитья от шума в них."
      ]
    },
    {
      "cell_type": "code",
      "execution_count": 128,
      "metadata": {
        "id": "ecf85GHpi1xn"
      },
      "outputs": [],
      "source": [
        "pca_train = PCA(n_components=96)"
      ]
    },
    {
      "cell_type": "code",
      "execution_count": 129,
      "metadata": {
        "colab": {
          "base_uri": "https://localhost:8080/",
          "height": 74
        },
        "id": "4VaM_3jpi4UY",
        "outputId": "e48d54b3-57a7-4cbc-8483-8fa958388af6"
      },
      "outputs": [
        {
          "data": {
            "text/html": [
              "<style>#sk-container-id-3 {color: black;background-color: white;}#sk-container-id-3 pre{padding: 0;}#sk-container-id-3 div.sk-toggleable {background-color: white;}#sk-container-id-3 label.sk-toggleable__label {cursor: pointer;display: block;width: 100%;margin-bottom: 0;padding: 0.3em;box-sizing: border-box;text-align: center;}#sk-container-id-3 label.sk-toggleable__label-arrow:before {content: \"▸\";float: left;margin-right: 0.25em;color: #696969;}#sk-container-id-3 label.sk-toggleable__label-arrow:hover:before {color: black;}#sk-container-id-3 div.sk-estimator:hover label.sk-toggleable__label-arrow:before {color: black;}#sk-container-id-3 div.sk-toggleable__content {max-height: 0;max-width: 0;overflow: hidden;text-align: left;background-color: #f0f8ff;}#sk-container-id-3 div.sk-toggleable__content pre {margin: 0.2em;color: black;border-radius: 0.25em;background-color: #f0f8ff;}#sk-container-id-3 input.sk-toggleable__control:checked~div.sk-toggleable__content {max-height: 200px;max-width: 100%;overflow: auto;}#sk-container-id-3 input.sk-toggleable__control:checked~label.sk-toggleable__label-arrow:before {content: \"▾\";}#sk-container-id-3 div.sk-estimator input.sk-toggleable__control:checked~label.sk-toggleable__label {background-color: #d4ebff;}#sk-container-id-3 div.sk-label input.sk-toggleable__control:checked~label.sk-toggleable__label {background-color: #d4ebff;}#sk-container-id-3 input.sk-hidden--visually {border: 0;clip: rect(1px 1px 1px 1px);clip: rect(1px, 1px, 1px, 1px);height: 1px;margin: -1px;overflow: hidden;padding: 0;position: absolute;width: 1px;}#sk-container-id-3 div.sk-estimator {font-family: monospace;background-color: #f0f8ff;border: 1px dotted black;border-radius: 0.25em;box-sizing: border-box;margin-bottom: 0.5em;}#sk-container-id-3 div.sk-estimator:hover {background-color: #d4ebff;}#sk-container-id-3 div.sk-parallel-item::after {content: \"\";width: 100%;border-bottom: 1px solid gray;flex-grow: 1;}#sk-container-id-3 div.sk-label:hover label.sk-toggleable__label {background-color: #d4ebff;}#sk-container-id-3 div.sk-serial::before {content: \"\";position: absolute;border-left: 1px solid gray;box-sizing: border-box;top: 0;bottom: 0;left: 50%;z-index: 0;}#sk-container-id-3 div.sk-serial {display: flex;flex-direction: column;align-items: center;background-color: white;padding-right: 0.2em;padding-left: 0.2em;position: relative;}#sk-container-id-3 div.sk-item {position: relative;z-index: 1;}#sk-container-id-3 div.sk-parallel {display: flex;align-items: stretch;justify-content: center;background-color: white;position: relative;}#sk-container-id-3 div.sk-item::before, #sk-container-id-3 div.sk-parallel-item::before {content: \"\";position: absolute;border-left: 1px solid gray;box-sizing: border-box;top: 0;bottom: 0;left: 50%;z-index: -1;}#sk-container-id-3 div.sk-parallel-item {display: flex;flex-direction: column;z-index: 1;position: relative;background-color: white;}#sk-container-id-3 div.sk-parallel-item:first-child::after {align-self: flex-end;width: 50%;}#sk-container-id-3 div.sk-parallel-item:last-child::after {align-self: flex-start;width: 50%;}#sk-container-id-3 div.sk-parallel-item:only-child::after {width: 0;}#sk-container-id-3 div.sk-dashed-wrapped {border: 1px dashed gray;margin: 0 0.4em 0.5em 0.4em;box-sizing: border-box;padding-bottom: 0.4em;background-color: white;}#sk-container-id-3 div.sk-label label {font-family: monospace;font-weight: bold;display: inline-block;line-height: 1.2em;}#sk-container-id-3 div.sk-label-container {text-align: center;}#sk-container-id-3 div.sk-container {/* jupyter's `normalize.less` sets `[hidden] { display: none; }` but bootstrap.min.css set `[hidden] { display: none !important; }` so we also need the `!important` here to be able to override the default hidden behavior on the sphinx rendered scikit-learn.org. See: https://github.com/scikit-learn/scikit-learn/issues/21755 */display: inline-block !important;position: relative;}#sk-container-id-3 div.sk-text-repr-fallback {display: none;}</style><div id=\"sk-container-id-3\" class=\"sk-top-container\"><div class=\"sk-text-repr-fallback\"><pre>PCA(n_components=96)</pre><b>In a Jupyter environment, please rerun this cell to show the HTML representation or trust the notebook. <br />On GitHub, the HTML representation is unable to render, please try loading this page with nbviewer.org.</b></div><div class=\"sk-container\" hidden><div class=\"sk-item\"><div class=\"sk-estimator sk-toggleable\"><input class=\"sk-toggleable__control sk-hidden--visually\" id=\"sk-estimator-id-3\" type=\"checkbox\" checked><label for=\"sk-estimator-id-3\" class=\"sk-toggleable__label sk-toggleable__label-arrow\">PCA</label><div class=\"sk-toggleable__content\"><pre>PCA(n_components=96)</pre></div></div></div></div></div>"
            ],
            "text/plain": [
              "PCA(n_components=96)"
            ]
          },
          "execution_count": 129,
          "metadata": {},
          "output_type": "execute_result"
        }
      ],
      "source": [
        "pca_train.fit(scaled_log_data)"
      ]
    },
    {
      "cell_type": "code",
      "execution_count": 130,
      "metadata": {
        "colab": {
          "base_uri": "https://localhost:8080/",
          "height": 448
        },
        "id": "p74xbayFi_ls",
        "outputId": "49432480-02cd-4d6f-a01c-f20adedd62f4"
      },
      "outputs": [
        {
          "data": {
            "text/plain": [
              "[<matplotlib.lines.Line2D at 0x7f6304e53dc0>]"
            ]
          },
          "execution_count": 130,
          "metadata": {},
          "output_type": "execute_result"
        },
        {
          "data": {
            "image/png": "[encoded data removed]",
            "text/plain": [
              "<Figure size 640x480 with 1 Axes>"
            ]
          },
          "metadata": {},
          "output_type": "display_data"
        }
      ],
      "source": [
        "plt.plot(np.arange(1, 97), pca_train.explained_variance_ratio_, 'o-')"
      ]
    },
    {
      "cell_type": "markdown",
      "metadata": {
        "id": "zpa1PheRWa_d"
      },
      "source": [
        "Почему оставиди 20 PCA"
      ]
    },
    {
      "cell_type": "code",
      "execution_count": 230,
      "metadata": {
        "colab": {
          "base_uri": "https://localhost:8080/",
          "height": 0
        },
        "id": "Z1WCtFX3oJlB",
        "outputId": "a9506c70-b2ca-4f4a-9b76-401f54208dbe"
      },
      "outputs": [
        {
          "data": {
            "text/plain": [
              "0.5879239210362246"
            ]
          },
          "execution_count": 230,
          "metadata": {},
          "output_type": "execute_result"
        }
      ],
      "source": [
        "pca_train.explained_variance_ratio_[:20].sum()"
      ]
    },
    {
      "cell_type": "code",
      "execution_count": 231,
      "metadata": {
        "id": "4GC62N1WWPnq"
      },
      "outputs": [],
      "source": [
        "n_components = 20\n",
        "pca = PCA(n_components=n_components)"
      ]
    },
    {
      "cell_type": "code",
      "execution_count": 195,
      "metadata": {
        "id": "G0NsHCnMZmG1"
      },
      "outputs": [],
      "source": [
        "log_scaled_pca_data = pca.fit_transform(scaled_log_data)"
      ]
    },
    {
      "cell_type": "code",
      "execution_count": 196,
      "metadata": {
        "id": "LvuhIyVM99yg"
      },
      "outputs": [],
      "source": [
        "log_scaled_pca_data = pd.DataFrame(data=log_scaled_pca_data, columns=np.arange(n_components), index=data_train.index)"
      ]
    },
    {
      "cell_type": "code",
      "execution_count": 197,
      "metadata": {
        "colab": {
          "base_uri": "https://localhost:8080/",
          "height": 470
        },
        "id": "1ziAA44f97yl",
        "outputId": "1154909a-bb4d-4eae-acb0-691c7d396db8"
      },
      "outputs": [
        {
          "name": "stderr",
          "output_type": "stream",
          "text": [
            "/usr/local/lib/python3.10/dist-packages/umap/umap_.py:1943: UserWarning: n_jobs value -1 overridden to 1 by setting random_state. Use no seed for parallelism.\n",
            "  warn(f\"n_jobs value {self.n_jobs} overridden to 1 by setting random_state. Use no seed for parallelism.\")\n"
          ]
        },
        {
          "data": {
            "image/png": "[encoded data removed]",
            "text/plain": [
              "<Figure size 640x480 with 1 Axes>"
            ]
          },
          "metadata": {},
          "output_type": "display_data"
        }
      ],
      "source": [
        "train_and_plot_umap(pd.concat([log_scaled_pca_data, data_train[target]], axis=1), np.arange(n_components))"
      ]
    },
    {
      "cell_type": "code",
      "execution_count": 198,
      "metadata": {
        "colab": {
          "base_uri": "https://localhost:8080/",
          "height": 0
        },
        "id": "2zBm8ylQ-lcz",
        "outputId": "c28f4003-f37f-4dbc-f378-c516eed2790c"
      },
      "outputs": [
        {
          "name": "stderr",
          "output_type": "stream",
          "text": [
            "/usr/local/lib/python3.10/dist-packages/sklearn/base.py:439: UserWarning: X does not have valid feature names, but PCA was fitted with feature names\n",
            "  warnings.warn(\n"
          ]
        }
      ],
      "source": [
        "log_test_data = np.log(data_test[features])\n",
        "scaled_log_test_data = scaler.transform(log_test_data)\n",
        "pca_scaled_log_test_data = pca.transform(scaled_log_test_data)"
      ]
    },
    {
      "cell_type": "code",
      "execution_count": 199,
      "metadata": {
        "id": "7XuBvpuo-0QC"
      },
      "outputs": [],
      "source": [
        "scale_logreg, scale_logreg_pred = fit_predict_logreg(log_scaled_pca_data, data_train[target], pca_scaled_log_test_data, max_iter=1000)"
      ]
    },
    {
      "cell_type": "code",
      "execution_count": 200,
      "metadata": {
        "colab": {
          "base_uri": "https://localhost:8080/",
          "height": 0
        },
        "id": "_oxn5jct_OIA",
        "outputId": "72c5a771-a9f0-40f5-8df8-9445ee34add6"
      },
      "outputs": [
        {
          "data": {
            "text/plain": [
              "{1: 1, 3: 2}"
            ]
          },
          "execution_count": 200,
          "metadata": {},
          "output_type": "execute_result"
        }
      ],
      "source": [
        "calculate_mistakes(scale_logreg_pred, data_test[target])"
      ]
    },
    {
      "cell_type": "code",
      "execution_count": 201,
      "metadata": {
        "colab": {
          "base_uri": "https://localhost:8080/",
          "height": 0
        },
        "id": "Rrc7pQR4Akm8",
        "outputId": "153196dd-c8ed-47e1-ca5a-b679d7da39b7"
      },
      "outputs": [
        {
          "data": {
            "text/plain": [
              "0.8992165242165241"
            ]
          },
          "execution_count": 201,
          "metadata": {},
          "output_type": "execute_result"
        }
      ],
      "source": [
        "f1_score(data_test[target], scale_logreg_pred, average=\"macro\")"
      ]
    },
    {
      "cell_type": "markdown",
      "metadata": {
        "id": "3iUF6gFEfws4"
      },
      "source": [
        "При оставлении 20 гланых компонент качество только ухудшилось, потому что почти все компоненты достаточно информативны. (пробавалось взять 30, 50 и 80 главных компонент, это не улучшило работу)."
      ]
    },
    {
      "cell_type": "markdown",
      "metadata": {
        "id": "eG5EsPipgH8K"
      },
      "source": [
        "Посмотрим, как на наших данных будет работаь нелинейная модель."
      ]
    },
    {
      "cell_type": "code",
      "execution_count": 202,
      "metadata": {
        "id": "Bvaz9SrxC4PE"
      },
      "outputs": [],
      "source": [
        "from xgboost import XGBClassifier"
      ]
    },
    {
      "cell_type": "code",
      "execution_count": 203,
      "metadata": {
        "id": "EGTvi_-4C888"
      },
      "outputs": [],
      "source": [
        "clf = XGBClassifier()"
      ]
    },
    {
      "cell_type": "code",
      "execution_count": 204,
      "metadata": {
        "colab": {
          "base_uri": "https://localhost:8080/",
          "height": 248
        },
        "id": "Q_vJ5sKXC__y",
        "outputId": "57fbb2cb-280b-4bf0-89a9-06bc04de1f52"
      },
      "outputs": [
        {
          "data": {
            "text/html": [
              "<style>#sk-container-id-4 {color: black;background-color: white;}#sk-container-id-4 pre{padding: 0;}#sk-container-id-4 div.sk-toggleable {background-color: white;}#sk-container-id-4 label.sk-toggleable__label {cursor: pointer;display: block;width: 100%;margin-bottom: 0;padding: 0.3em;box-sizing: border-box;text-align: center;}#sk-container-id-4 label.sk-toggleable__label-arrow:before {content: \"▸\";float: left;margin-right: 0.25em;color: #696969;}#sk-container-id-4 label.sk-toggleable__label-arrow:hover:before {color: black;}#sk-container-id-4 div.sk-estimator:hover label.sk-toggleable__label-arrow:before {color: black;}#sk-container-id-4 div.sk-toggleable__content {max-height: 0;max-width: 0;overflow: hidden;text-align: left;background-color: #f0f8ff;}#sk-container-id-4 div.sk-toggleable__content pre {margin: 0.2em;color: black;border-radius: 0.25em;background-color: #f0f8ff;}#sk-container-id-4 input.sk-toggleable__control:checked~div.sk-toggleable__content {max-height: 200px;max-width: 100%;overflow: auto;}#sk-container-id-4 input.sk-toggleable__control:checked~label.sk-toggleable__label-arrow:before {content: \"▾\";}#sk-container-id-4 div.sk-estimator input.sk-toggleable__control:checked~label.sk-toggleable__label {background-color: #d4ebff;}#sk-container-id-4 div.sk-label input.sk-toggleable__control:checked~label.sk-toggleable__label {background-color: #d4ebff;}#sk-container-id-4 input.sk-hidden--visually {border: 0;clip: rect(1px 1px 1px 1px);clip: rect(1px, 1px, 1px, 1px);height: 1px;margin: -1px;overflow: hidden;padding: 0;position: absolute;width: 1px;}#sk-container-id-4 div.sk-estimator {font-family: monospace;background-color: #f0f8ff;border: 1px dotted black;border-radius: 0.25em;box-sizing: border-box;margin-bottom: 0.5em;}#sk-container-id-4 div.sk-estimator:hover {background-color: #d4ebff;}#sk-container-id-4 div.sk-parallel-item::after {content: \"\";width: 100%;border-bottom: 1px solid gray;flex-grow: 1;}#sk-container-id-4 div.sk-label:hover label.sk-toggleable__label {background-color: #d4ebff;}#sk-container-id-4 div.sk-serial::before {content: \"\";position: absolute;border-left: 1px solid gray;box-sizing: border-box;top: 0;bottom: 0;left: 50%;z-index: 0;}#sk-container-id-4 div.sk-serial {display: flex;flex-direction: column;align-items: center;background-color: white;padding-right: 0.2em;padding-left: 0.2em;position: relative;}#sk-container-id-4 div.sk-item {position: relative;z-index: 1;}#sk-container-id-4 div.sk-parallel {display: flex;align-items: stretch;justify-content: center;background-color: white;position: relative;}#sk-container-id-4 div.sk-item::before, #sk-container-id-4 div.sk-parallel-item::before {content: \"\";position: absolute;border-left: 1px solid gray;box-sizing: border-box;top: 0;bottom: 0;left: 50%;z-index: -1;}#sk-container-id-4 div.sk-parallel-item {display: flex;flex-direction: column;z-index: 1;position: relative;background-color: white;}#sk-container-id-4 div.sk-parallel-item:first-child::after {align-self: flex-end;width: 50%;}#sk-container-id-4 div.sk-parallel-item:last-child::after {align-self: flex-start;width: 50%;}#sk-container-id-4 div.sk-parallel-item:only-child::after {width: 0;}#sk-container-id-4 div.sk-dashed-wrapped {border: 1px dashed gray;margin: 0 0.4em 0.5em 0.4em;box-sizing: border-box;padding-bottom: 0.4em;background-color: white;}#sk-container-id-4 div.sk-label label {font-family: monospace;font-weight: bold;display: inline-block;line-height: 1.2em;}#sk-container-id-4 div.sk-label-container {text-align: center;}#sk-container-id-4 div.sk-container {/* jupyter's `normalize.less` sets `[hidden] { display: none; }` but bootstrap.min.css set `[hidden] { display: none !important; }` so we also need the `!important` here to be able to override the default hidden behavior on the sphinx rendered scikit-learn.org. See: https://github.com/scikit-learn/scikit-learn/issues/21755 */display: inline-block !important;position: relative;}#sk-container-id-4 div.sk-text-repr-fallback {display: none;}</style><div id=\"sk-container-id-4\" class=\"sk-top-container\"><div class=\"sk-text-repr-fallback\"><pre>XGBClassifier(base_score=None, booster=None, callbacks=None,\n",
              "              colsample_bylevel=None, colsample_bynode=None,\n",
              "              colsample_bytree=None, device=None, early_stopping_rounds=None,\n",
              "              enable_categorical=False, eval_metric=None, feature_types=None,\n",
              "              gamma=None, grow_policy=None, importance_type=None,\n",
              "              interaction_constraints=None, learning_rate=None, max_bin=None,\n",
              "              max_cat_threshold=None, max_cat_to_onehot=None,\n",
              "              max_delta_step=None, max_depth=None, max_leaves=None,\n",
              "              min_child_weight=None, missing=nan, monotone_constraints=None,\n",
              "              multi_strategy=None, n_estimators=None, n_jobs=None,\n",
              "              num_parallel_tree=None, objective=&#x27;multi:softprob&#x27;, ...)</pre><b>In a Jupyter environment, please rerun this cell to show the HTML representation or trust the notebook. <br />On GitHub, the HTML representation is unable to render, please try loading this page with nbviewer.org.</b></div><div class=\"sk-container\" hidden><div class=\"sk-item\"><div class=\"sk-estimator sk-toggleable\"><input class=\"sk-toggleable__control sk-hidden--visually\" id=\"sk-estimator-id-4\" type=\"checkbox\" checked><label for=\"sk-estimator-id-4\" class=\"sk-toggleable__label sk-toggleable__label-arrow\">XGBClassifier</label><div class=\"sk-toggleable__content\"><pre>XGBClassifier(base_score=None, booster=None, callbacks=None,\n",
              "              colsample_bylevel=None, colsample_bynode=None,\n",
              "              colsample_bytree=None, device=None, early_stopping_rounds=None,\n",
              "              enable_categorical=False, eval_metric=None, feature_types=None,\n",
              "              gamma=None, grow_policy=None, importance_type=None,\n",
              "              interaction_constraints=None, learning_rate=None, max_bin=None,\n",
              "              max_cat_threshold=None, max_cat_to_onehot=None,\n",
              "              max_delta_step=None, max_depth=None, max_leaves=None,\n",
              "              min_child_weight=None, missing=nan, monotone_constraints=None,\n",
              "              multi_strategy=None, n_estimators=None, n_jobs=None,\n",
              "              num_parallel_tree=None, objective=&#x27;multi:softprob&#x27;, ...)</pre></div></div></div></div></div>"
            ],
            "text/plain": [
              "XGBClassifier(base_score=None, booster=None, callbacks=None,\n",
              "              colsample_bylevel=None, colsample_bynode=None,\n",
              "              colsample_bytree=None, device=None, early_stopping_rounds=None,\n",
              "              enable_categorical=False, eval_metric=None, feature_types=None,\n",
              "              gamma=None, grow_policy=None, importance_type=None,\n",
              "              interaction_constraints=None, learning_rate=None, max_bin=None,\n",
              "              max_cat_threshold=None, max_cat_to_onehot=None,\n",
              "              max_delta_step=None, max_depth=None, max_leaves=None,\n",
              "              min_child_weight=None, missing=nan, monotone_constraints=None,\n",
              "              multi_strategy=None, n_estimators=None, n_jobs=None,\n",
              "              num_parallel_tree=None, objective='multi:softprob', ...)"
            ]
          },
          "execution_count": 204,
          "metadata": {},
          "output_type": "execute_result"
        }
      ],
      "source": [
        "clf.fit(data_train[features], data_train[target])"
      ]
    },
    {
      "cell_type": "code",
      "execution_count": 205,
      "metadata": {
        "id": "f_nKluR7DEZC"
      },
      "outputs": [],
      "source": [
        "boost_pred = clf.predict(data_test[features])"
      ]
    },
    {
      "cell_type": "code",
      "execution_count": 207,
      "metadata": {
        "colab": {
          "base_uri": "https://localhost:8080/",
          "height": 0
        },
        "id": "xRfZiBI1DIIL",
        "outputId": "698668c3-7a3e-45b8-ad5b-0c64b9e36e4b"
      },
      "outputs": [
        {
          "data": {
            "text/plain": [
              "({0: 2, 3: 1, 4: 1}, 0.8111111111111112)"
            ]
          },
          "execution_count": 207,
          "metadata": {},
          "output_type": "execute_result"
        }
      ],
      "source": [
        "calculate_mistakes(boost_pred, data_test[target]), f1_score(data_test[target], boost_pred, average=\"macro\")"
      ]
    },
    {
      "cell_type": "code",
      "execution_count": 210,
      "metadata": {
        "colab": {
          "base_uri": "https://localhost:8080/",
          "height": 0
        },
        "id": "ia8ccNzbEWhB",
        "outputId": "d5a2bf97-710a-4248-c8a1-1eca2d89c2b6"
      },
      "outputs": [
        {
          "data": {
            "text/plain": [
              "({}, 1.0)"
            ]
          },
          "execution_count": 210,
          "metadata": {},
          "output_type": "execute_result"
        }
      ],
      "source": [
        "boost_pred_train = clf.predict(data_train[features])\n",
        "calculate_mistakes(boost_pred_train, data_train[target]), f1_score(data_train[target], boost_pred_train, average=\"macro\")"
      ]
    },
    {
      "cell_type": "markdown",
      "metadata": {
        "id": "UlgtjD1agPiJ"
      },
      "source": [
        "На ненормированных данных качевсто хуже, чем  у линейной регресии, попробуем бустингом разделить только \"скученные\" классы в центре."
      ]
    },
    {
      "cell_type": "code",
      "execution_count": 208,
      "metadata": {
        "id": "a4pepoO5EGtX"
      },
      "outputs": [],
      "source": [
        "mask_1 = (data_train[target] != 2).values\n",
        "mask_2 = (data_train[target] != 5).values\n",
        "mask = mask_1 * mask_2"
      ]
    },
    {
      "cell_type": "code",
      "execution_count": 211,
      "metadata": {
        "id": "zUWZJsbOETS9"
      },
      "outputs": [],
      "source": [
        "small_train = data_train[mask]"
      ]
    },
    {
      "cell_type": "code",
      "execution_count": 212,
      "metadata": {
        "id": "1tc8oztNEviY"
      },
      "outputs": [],
      "source": [
        "clf = XGBClassifier()"
      ]
    },
    {
      "cell_type": "code",
      "execution_count": 215,
      "metadata": {
        "id": "vAUvVXdEE_o-"
      },
      "outputs": [],
      "source": [
        "new_le = LabelEncoder()"
      ]
    },
    {
      "cell_type": "code",
      "execution_count": 216,
      "metadata": {
        "colab": {
          "base_uri": "https://localhost:8080/",
          "height": 0
        },
        "id": "bonQKCFKFCdR",
        "outputId": "23d0fab4-99ef-4885-9763-2d485db2d92b"
      },
      "outputs": [
        {
          "data": {
            "text/plain": [
              "array([0, 0, 3, 3, 2, 2, 1, 1, 3, 1, 2, 3, 1, 3, 3, 1, 2, 0, 0, 1, 1, 0,\n",
              "       2, 3, 1, 3, 2, 2, 1, 3, 2, 0, 2, 3, 1, 2, 3, 3, 1, 1, 1, 2, 0, 1,\n",
              "       1, 2, 2, 0, 2, 3, 0, 1, 1, 3, 2, 1, 0, 1, 1, 1, 3, 0, 2, 1, 0, 3,\n",
              "       0, 1, 0, 0, 0, 0, 3, 2, 1, 3, 1, 1, 3, 2, 1])"
            ]
          },
          "execution_count": 216,
          "metadata": {},
          "output_type": "execute_result"
        }
      ],
      "source": [
        "new_le.fit_transform(small_train[target])"
      ]
    },
    {
      "cell_type": "code",
      "execution_count": 218,
      "metadata": {
        "colab": {
          "base_uri": "https://localhost:8080/",
          "height": 248
        },
        "id": "RPZEPM1OEzUm",
        "outputId": "6dd18471-8d2c-4ace-9646-596abf403a1a"
      },
      "outputs": [
        {
          "data": {
            "text/html": [
              "<style>#sk-container-id-5 {color: black;background-color: white;}#sk-container-id-5 pre{padding: 0;}#sk-container-id-5 div.sk-toggleable {background-color: white;}#sk-container-id-5 label.sk-toggleable__label {cursor: pointer;display: block;width: 100%;margin-bottom: 0;padding: 0.3em;box-sizing: border-box;text-align: center;}#sk-container-id-5 label.sk-toggleable__label-arrow:before {content: \"▸\";float: left;margin-right: 0.25em;color: #696969;}#sk-container-id-5 label.sk-toggleable__label-arrow:hover:before {color: black;}#sk-container-id-5 div.sk-estimator:hover label.sk-toggleable__label-arrow:before {color: black;}#sk-container-id-5 div.sk-toggleable__content {max-height: 0;max-width: 0;overflow: hidden;text-align: left;background-color: #f0f8ff;}#sk-container-id-5 div.sk-toggleable__content pre {margin: 0.2em;color: black;border-radius: 0.25em;background-color: #f0f8ff;}#sk-container-id-5 input.sk-toggleable__control:checked~div.sk-toggleable__content {max-height: 200px;max-width: 100%;overflow: auto;}#sk-container-id-5 input.sk-toggleable__control:checked~label.sk-toggleable__label-arrow:before {content: \"▾\";}#sk-container-id-5 div.sk-estimator input.sk-toggleable__control:checked~label.sk-toggleable__label {background-color: #d4ebff;}#sk-container-id-5 div.sk-label input.sk-toggleable__control:checked~label.sk-toggleable__label {background-color: #d4ebff;}#sk-container-id-5 input.sk-hidden--visually {border: 0;clip: rect(1px 1px 1px 1px);clip: rect(1px, 1px, 1px, 1px);height: 1px;margin: -1px;overflow: hidden;padding: 0;position: absolute;width: 1px;}#sk-container-id-5 div.sk-estimator {font-family: monospace;background-color: #f0f8ff;border: 1px dotted black;border-radius: 0.25em;box-sizing: border-box;margin-bottom: 0.5em;}#sk-container-id-5 div.sk-estimator:hover {background-color: #d4ebff;}#sk-container-id-5 div.sk-parallel-item::after {content: \"\";width: 100%;border-bottom: 1px solid gray;flex-grow: 1;}#sk-container-id-5 div.sk-label:hover label.sk-toggleable__label {background-color: #d4ebff;}#sk-container-id-5 div.sk-serial::before {content: \"\";position: absolute;border-left: 1px solid gray;box-sizing: border-box;top: 0;bottom: 0;left: 50%;z-index: 0;}#sk-container-id-5 div.sk-serial {display: flex;flex-direction: column;align-items: center;background-color: white;padding-right: 0.2em;padding-left: 0.2em;position: relative;}#sk-container-id-5 div.sk-item {position: relative;z-index: 1;}#sk-container-id-5 div.sk-parallel {display: flex;align-items: stretch;justify-content: center;background-color: white;position: relative;}#sk-container-id-5 div.sk-item::before, #sk-container-id-5 div.sk-parallel-item::before {content: \"\";position: absolute;border-left: 1px solid gray;box-sizing: border-box;top: 0;bottom: 0;left: 50%;z-index: -1;}#sk-container-id-5 div.sk-parallel-item {display: flex;flex-direction: column;z-index: 1;position: relative;background-color: white;}#sk-container-id-5 div.sk-parallel-item:first-child::after {align-self: flex-end;width: 50%;}#sk-container-id-5 div.sk-parallel-item:last-child::after {align-self: flex-start;width: 50%;}#sk-container-id-5 div.sk-parallel-item:only-child::after {width: 0;}#sk-container-id-5 div.sk-dashed-wrapped {border: 1px dashed gray;margin: 0 0.4em 0.5em 0.4em;box-sizing: border-box;padding-bottom: 0.4em;background-color: white;}#sk-container-id-5 div.sk-label label {font-family: monospace;font-weight: bold;display: inline-block;line-height: 1.2em;}#sk-container-id-5 div.sk-label-container {text-align: center;}#sk-container-id-5 div.sk-container {/* jupyter's `normalize.less` sets `[hidden] { display: none; }` but bootstrap.min.css set `[hidden] { display: none !important; }` so we also need the `!important` here to be able to override the default hidden behavior on the sphinx rendered scikit-learn.org. See: https://github.com/scikit-learn/scikit-learn/issues/21755 */display: inline-block !important;position: relative;}#sk-container-id-5 div.sk-text-repr-fallback {display: none;}</style><div id=\"sk-container-id-5\" class=\"sk-top-container\"><div class=\"sk-text-repr-fallback\"><pre>XGBClassifier(base_score=None, booster=None, callbacks=None,\n",
              "              colsample_bylevel=None, colsample_bynode=None,\n",
              "              colsample_bytree=None, device=None, early_stopping_rounds=None,\n",
              "              enable_categorical=False, eval_metric=None, feature_types=None,\n",
              "              gamma=None, grow_policy=None, importance_type=None,\n",
              "              interaction_constraints=None, learning_rate=None, max_bin=None,\n",
              "              max_cat_threshold=None, max_cat_to_onehot=None,\n",
              "              max_delta_step=None, max_depth=None, max_leaves=None,\n",
              "              min_child_weight=None, missing=nan, monotone_constraints=None,\n",
              "              multi_strategy=None, n_estimators=None, n_jobs=None,\n",
              "              num_parallel_tree=None, objective=&#x27;multi:softprob&#x27;, ...)</pre><b>In a Jupyter environment, please rerun this cell to show the HTML representation or trust the notebook. <br />On GitHub, the HTML representation is unable to render, please try loading this page with nbviewer.org.</b></div><div class=\"sk-container\" hidden><div class=\"sk-item\"><div class=\"sk-estimator sk-toggleable\"><input class=\"sk-toggleable__control sk-hidden--visually\" id=\"sk-estimator-id-5\" type=\"checkbox\" checked><label for=\"sk-estimator-id-5\" class=\"sk-toggleable__label sk-toggleable__label-arrow\">XGBClassifier</label><div class=\"sk-toggleable__content\"><pre>XGBClassifier(base_score=None, booster=None, callbacks=None,\n",
              "              colsample_bylevel=None, colsample_bynode=None,\n",
              "              colsample_bytree=None, device=None, early_stopping_rounds=None,\n",
              "              enable_categorical=False, eval_metric=None, feature_types=None,\n",
              "              gamma=None, grow_policy=None, importance_type=None,\n",
              "              interaction_constraints=None, learning_rate=None, max_bin=None,\n",
              "              max_cat_threshold=None, max_cat_to_onehot=None,\n",
              "              max_delta_step=None, max_depth=None, max_leaves=None,\n",
              "              min_child_weight=None, missing=nan, monotone_constraints=None,\n",
              "              multi_strategy=None, n_estimators=None, n_jobs=None,\n",
              "              num_parallel_tree=None, objective=&#x27;multi:softprob&#x27;, ...)</pre></div></div></div></div></div>"
            ],
            "text/plain": [
              "XGBClassifier(base_score=None, booster=None, callbacks=None,\n",
              "              colsample_bylevel=None, colsample_bynode=None,\n",
              "              colsample_bytree=None, device=None, early_stopping_rounds=None,\n",
              "              enable_categorical=False, eval_metric=None, feature_types=None,\n",
              "              gamma=None, grow_policy=None, importance_type=None,\n",
              "              interaction_constraints=None, learning_rate=None, max_bin=None,\n",
              "              max_cat_threshold=None, max_cat_to_onehot=None,\n",
              "              max_delta_step=None, max_depth=None, max_leaves=None,\n",
              "              min_child_weight=None, missing=nan, monotone_constraints=None,\n",
              "              multi_strategy=None, n_estimators=None, n_jobs=None,\n",
              "              num_parallel_tree=None, objective='multi:softprob', ...)"
            ]
          },
          "execution_count": 218,
          "metadata": {},
          "output_type": "execute_result"
        }
      ],
      "source": [
        "clf.fit(small_train[features], new_le.transform(small_train[target]))"
      ]
    },
    {
      "cell_type": "code",
      "execution_count": 219,
      "metadata": {
        "id": "wu-qIv5VFYa5"
      },
      "outputs": [],
      "source": [
        "mask_1_test = (data_test[target] != 2).values\n",
        "mask_2_test = (data_test[target] != 5).values\n",
        "mask_test = mask_1_test * mask_2_test"
      ]
    },
    {
      "cell_type": "code",
      "execution_count": 220,
      "metadata": {
        "id": "gntSuh6LFezs"
      },
      "outputs": [],
      "source": [
        "small_test = data_test[mask_test]"
      ]
    },
    {
      "cell_type": "code",
      "execution_count": 224,
      "metadata": {
        "colab": {
          "base_uri": "https://localhost:8080/",
          "height": 0
        },
        "id": "4PzELCDBFVcW",
        "outputId": "372ff9bb-ca36-46a8-bfc7-c35703c1044a"
      },
      "outputs": [
        {
          "data": {
            "text/plain": [
              "({0: 1, 1: 1, 3: 2}, 0.8033882783882783)"
            ]
          },
          "execution_count": 224,
          "metadata": {},
          "output_type": "execute_result"
        }
      ],
      "source": [
        "pred_small = clf.predict(small_test[features])\n",
        "calculate_mistakes(pred_small, new_le.transform(small_test[target])), f1_score(new_le.transform(small_test[target]), pred_small, average=\"macro\")"
      ]
    },
    {
      "cell_type": "code",
      "execution_count": 225,
      "metadata": {
        "colab": {
          "base_uri": "https://localhost:8080/",
          "height": 0
        },
        "id": "ZdgXYOzoGOCm",
        "outputId": "662de018-c267-4221-dd67-73218a92bfb3"
      },
      "outputs": [
        {
          "data": {
            "text/plain": [
              "array([0, 1, 4])"
            ]
          },
          "execution_count": 225,
          "metadata": {},
          "output_type": "execute_result"
        }
      ],
      "source": [
        "new_le.inverse_transform([0, 1, 3])"
      ]
    },
    {
      "cell_type": "markdown",
      "metadata": {
        "id": "8dUUfSkQGVX6"
      },
      "source": [
        "Бустинг все равно не справляется."
      ]
    },
    {
      "cell_type": "markdown",
      "metadata": {
        "id": "Vt1mdxK6nsTa"
      },
      "source": [
        "Попробуем выбить качесвто на кросс-валидации, может у нас просто не очень удачное разбиение на тренировочную и валидационную выборки."
      ]
    },
    {
      "cell_type": "code",
      "execution_count": 238,
      "metadata": {
        "id": "Df4JqAM2HwH2"
      },
      "outputs": [],
      "source": [
        "from sklearn.model_selection import KFold"
      ]
    },
    {
      "cell_type": "code",
      "execution_count": 243,
      "metadata": {
        "id": "6VIomrTfJQZq"
      },
      "outputs": [],
      "source": [
        "kf = KFold(n_splits=5, shuffle=True, random_state=RANDOM_SEED)"
      ]
    },
    {
      "cell_type": "code",
      "execution_count": 263,
      "metadata": {
        "id": "GtXxYdqgJXLN"
      },
      "outputs": [],
      "source": [
        "best_f1 = 0\n",
        "best_model = None\n",
        "best_scaler = None"
      ]
    },
    {
      "cell_type": "code",
      "execution_count": 264,
      "metadata": {
        "colab": {
          "base_uri": "https://localhost:8080/"
        },
        "id": "9gchUoQdJamH",
        "outputId": "38c3d62e-55db-4c77-c192-a0810c84b754"
      },
      "outputs": [
        {
          "name": "stdout",
          "output_type": "stream",
          "text": [
            "0: f1=0.9484126984126983, mistakes={0: 2}\n",
            "1: f1=0.8857142857142857, mistakes={0: 1, 1: 1, 5: 1}\n",
            "2: f1=0.9692307692307691, mistakes={3: 1}\n",
            "3: f1=0.9198257080610022, mistakes={1: 1, 4: 1}\n",
            "4: f1=0.9692307692307691, mistakes={4: 1}\n"
          ]
        }
      ],
      "source": [
        "for i, (train_ids, test_ids) in enumerate(kf.split(data)):\n",
        "  model = LogisticRegression(max_iter=1000)\n",
        "  train_folds = data.iloc[train_ids]\n",
        "  test_fold = data.iloc[test_ids]\n",
        "\n",
        "  train_feat = np.log(train_folds[features])\n",
        "  scaler = StandardScaler()\n",
        "  train_feat = scaler.fit_transform(train_feat)\n",
        "\n",
        "  model.fit(train_feat, train_folds[target])\n",
        "  test_feat = np.log(test_fold[features])\n",
        "  test_feat = scaler.transform(test_feat)\n",
        "\n",
        "  pred = model.predict(test_feat)\n",
        "  curr_f1 = f1_score(test_fold[target], pred, average=\"macro\")\n",
        "  mistakes = calculate_mistakes(pred, test_fold[target])\n",
        "\n",
        "  if best_f1 < curr_f1:\n",
        "    best_f1 = curr_f1\n",
        "    best_model = model\n",
        "    best_scaler = scaler\n",
        "  print(f\"{i}: f1={curr_f1}, mistakes={mistakes}\")"
      ]
    },
    {
      "cell_type": "code",
      "execution_count": 265,
      "metadata": {
        "colab": {
          "base_uri": "https://localhost:8080/"
        },
        "id": "ZexZn8moM-S9",
        "outputId": "b8572466-8c3b-441a-b945-f35dbd516d55"
      },
      "outputs": [
        {
          "name": "stdout",
          "output_type": "stream",
          "text": [
            "0: f1=0.8650793650793651, mistakes={4: 1, 5: 1}\n",
            "1: f1=0.8984126984126983, mistakes={2: 1, 5: 1}\n",
            "2: f1=0.8900699300699302, mistakes={3: 1, 4: 2}\n",
            "3: f1=0.9208576998050683, mistakes={2: 1, 4: 1}\n",
            "4: f1=0.8578621378621378, mistakes={0: 1, 1: 1, 4: 1}\n"
          ]
        }
      ],
      "source": [
        "best_f1 = 0\n",
        "best_boost = None\n",
        "\n",
        "for i, (train_ids, test_ids) in enumerate(kf.split(data)):\n",
        "  model = XGBClassifier()\n",
        "  train_folds = data.iloc[train_ids]\n",
        "  test_fold = data.iloc[test_ids]\n",
        "\n",
        "  train_feat = np.log(train_folds[features])\n",
        "\n",
        "  model.fit(train_feat, train_folds[target])\n",
        "  test_feat = np.log(test_fold[features])\n",
        "\n",
        "  pred = model.predict(test_feat)\n",
        "  curr_f1 = f1_score(test_fold[target], pred, average=\"macro\")\n",
        "  mistakes = calculate_mistakes(pred, test_fold[target])\n",
        "\n",
        "  if best_f1 < curr_f1:\n",
        "    best_f1 = curr_f1\n",
        "    best_boost = model\n",
        "  print(f\"{i}: f1={curr_f1}, mistakes={mistakes}\")"
      ]
    },
    {
      "cell_type": "code",
      "execution_count": 262,
      "metadata": {
        "colab": {
          "base_uri": "https://localhost:8080/",
          "height": 0
        },
        "id": "Jsrr0SfpL9DH",
        "outputId": "01115bcf-cccf-4552-a913-86c28734b8b4"
      },
      "outputs": [
        {
          "data": {
            "text/plain": [
              "(LogisticRegression(max_iter=1000), StandardScaler())"
            ]
          },
          "execution_count": 262,
          "metadata": {},
          "output_type": "execute_result"
        }
      ],
      "source": [
        "best_model, best_scaler, best_boost"
      ]
    },
    {
      "cell_type": "markdown",
      "metadata": {
        "id": "uR5U441CL2iX"
      },
      "source": [
        "С поомщью линейной регресии получилось добиться f1 скора 0.97, что эквивалентно ошибке на одном примере.  \n",
        "В принципе, за качеством дальше гнаться некуда.  \n",
        "Для прогона на тесте, возьмите бейзлайн и логрег с нормализацией.\n",
        "Бейзлайн: просто логрег.  \n",
        "Логрег с нормализацией:  \n",
        "1) Лог нормализация  \n",
        "2) StandardScaler  \n",
        "3) Логрег\n"
      ]
    },
    {
      "cell_type": "code",
      "execution_count": null,
      "metadata": {
        "id": "hKFfSKoCMSLa"
      },
      "outputs": [],
      "source": []
    }
  ],
  "metadata": {
    "colab": {
      "provenance": [],
      "toc_visible": true
    },
    "kernelspec": {
      "display_name": "Python 3",
      "name": "python3"
    },
    "language_info": {
      "name": "python"
    }
  },
  "nbformat": 4,
  "nbformat_minor": 0
}
